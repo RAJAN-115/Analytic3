{
 "cells": [
  {
   "cell_type": "code",
   "execution_count": null,
   "metadata": {},
   "outputs": [],
   "source": [
    "import pandas as pd\n",
    "from sklearn.naive_bayes import GaussianNB\n",
    "from sklearn.model_selection import train_test_split\n",
    "\n",
    "# Load the iris dataset\n",
    "iris = pd.read_csv('iris.csv')\n",
    "\n",
    "# Split the dataset into features (X) and target (y)\n",
    "X = iris.iloc[:, :-1]\n",
    "y = iris.iloc[:, -1]\n",
    "\n",
    "# Split the dataset into training and testing sets\n",
    "X_train, X_test, y_train, y_test = train_test_split(X, y, test_size=0.3, random_state=0)\n",
    "\n",
    "# Create a Naive Bayes classifier\n",
    "classifier = GaussianNB()\n",
    "\n",
    "# Train the classifier using the training data\n",
    "classifier.fit(X_train, y_train)\n",
    "\n",
    "# Predict the classes of the testing data\n",
    "y_pred = classifier.predict(X_test)\n",
    "\n",
    "# Print the predicted classes\n",
    "print(y_pred)\n"
   ]
  },
  {
   "cell_type": "code",
   "execution_count": null,
   "metadata": {},
   "outputs": [],
   "source": [
    "import numpy as np\n",
    "from sklearn.metrics import confusion_matrix\n",
    "\n",
    "# Compute the confusion matrix\n",
    "class_labels = np.unique(y)\n",
    "conf_matrix = confusion_matrix(y_test, y_pred, labels=class_labels)\n",
    "\n",
    "# Extract the true positives (TP), false positives (FP), true negatives (TN), and false negatives (FN) for each class label\n",
    "tp = np.diag(conf_matrix)\n",
    "fp = np.sum(conf_matrix, axis=0) - tp\n",
    "fn = np.sum(conf_matrix, axis=1) - tp\n",
    "tn = np.sum(conf_matrix) - (tp + fp + fn)\n",
    "\n",
    "# Compute the accuracy, error rate, precision, and recall for each class label\n",
    "accuracy = (tp + tn) / (tp + tn + fp + fn)\n",
    "error_rate = (fp + fn) / (tp + tn + fp + fn)\n",
    "precision = tp / (tp + fp)\n",
    "recall = tp / (tp + fn)\n",
    "\n",
    "# Print the performance metrics for each class label\n",
    "for i, label in enumerate(class_labels):\n",
    "    print(f\"Class {label}:\")\n",
    "    print(f\"True Positives: {tp[i]}\")\n",
    "    print(f\"False Positives: {fp[i]}\")\n",
    "    print(f\"True Negatives: {tn[i]}\")\n",
    "    print(f\"False Negatives: {fn[i]}\")\n",
    "    print(f\"Accuracy: {accuracy[i]}\")\n",
    "    print(f\"Error Rate: {error_rate[i]}\")\n",
    "    print(f\"Precision: {precision[i]}\")\n",
    "    print(f\"Recall: {recall[i]}\\n\")\n"
   ]
  }
 ],
 "metadata": {
  "kernelspec": {
   "display_name": "base",
   "language": "python",
   "name": "python3"
  },
  "language_info": {
   "codemirror_mode": {
    "name": "ipython",
    "version": 3
   },
   "file_extension": ".py",
   "mimetype": "text/x-python",
   "name": "python",
   "nbconvert_exporter": "python",
   "pygments_lexer": "ipython3",
   "version": "3.10.9"
  },
  "orig_nbformat": 4
 },
 "nbformat": 4,
 "nbformat_minor": 2
}
